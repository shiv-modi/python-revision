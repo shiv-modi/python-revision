{
 "cells": [
  {
   "cell_type": "code",
   "execution_count": 1,
   "id": "f565b8da",
   "metadata": {},
   "outputs": [],
   "source": [
    "import  numpy as np"
   ]
  },
  {
   "cell_type": "code",
   "execution_count": 3,
   "id": "a84a5fed",
   "metadata": {},
   "outputs": [],
   "source": [
    "# Sort,search & counting Functions"
   ]
  },
  {
   "cell_type": "code",
   "execution_count": 4,
   "id": "403ffc76",
   "metadata": {},
   "outputs": [],
   "source": [
    "arr = np.array([4,3,6,72,3,5,1,2,3,5])"
   ]
  },
  {
   "cell_type": "code",
   "execution_count": 5,
   "id": "cd908d30",
   "metadata": {},
   "outputs": [
    {
     "data": {
      "text/plain": [
       "array([ 1,  2,  3,  3,  3,  4,  5,  5,  6, 72])"
      ]
     },
     "execution_count": 5,
     "metadata": {},
     "output_type": "execute_result"
    }
   ],
   "source": [
    "np.sort(arr)"
   ]
  },
  {
   "cell_type": "code",
   "execution_count": 6,
   "id": "43504e9a",
   "metadata": {},
   "outputs": [
    {
     "data": {
      "text/plain": [
       "10"
      ]
     },
     "execution_count": 6,
     "metadata": {},
     "output_type": "execute_result"
    }
   ],
   "source": [
    "np.searchsorted(arr,34)"
   ]
  },
  {
   "cell_type": "code",
   "execution_count": 7,
   "id": "6c1cfb9a",
   "metadata": {},
   "outputs": [],
   "source": [
    "arr1 = np.array([0,34,5,2,5,2,36,1,2,3,5])"
   ]
  },
  {
   "cell_type": "code",
   "execution_count": 8,
   "id": "b5b873e9",
   "metadata": {},
   "outputs": [
    {
     "data": {
      "text/plain": [
       "10"
      ]
     },
     "execution_count": 8,
     "metadata": {},
     "output_type": "execute_result"
    }
   ],
   "source": [
    "np.count_nonzero(arr1)"
   ]
  },
  {
   "cell_type": "code",
   "execution_count": 9,
   "id": "e4d4edbe",
   "metadata": {},
   "outputs": [
    {
     "data": {
      "text/plain": [
       "(array([3]),)"
      ]
     },
     "execution_count": 9,
     "metadata": {},
     "output_type": "execute_result"
    }
   ],
   "source": [
    "np.where(arr>6)"
   ]
  },
  {
   "cell_type": "code",
   "execution_count": 10,
   "id": "d983baa0",
   "metadata": {},
   "outputs": [
    {
     "data": {
      "text/plain": [
       "array([72])"
      ]
     },
     "execution_count": 10,
     "metadata": {},
     "output_type": "execute_result"
    }
   ],
   "source": [
    "np.extract(arr>6,arr)"
   ]
  },
  {
   "cell_type": "code",
   "execution_count": 11,
   "id": "6937f60c",
   "metadata": {},
   "outputs": [],
   "source": [
    "# Numpy Byte Swapping"
   ]
  },
  {
   "cell_type": "code",
   "execution_count": 12,
   "id": "dfc8fedd",
   "metadata": {},
   "outputs": [
    {
     "data": {
      "text/plain": [
       "array([ 288230376151711744,  216172782113783808,  432345564227567616,\n",
       "       5188146770730811392,  216172782113783808,  360287970189639680,\n",
       "         72057594037927936,  144115188075855872,  216172782113783808,\n",
       "        360287970189639680])"
      ]
     },
     "execution_count": 12,
     "metadata": {},
     "output_type": "execute_result"
    }
   ],
   "source": [
    "arr.byteswap()"
   ]
  },
  {
   "cell_type": "code",
   "execution_count": 13,
   "id": "c0a7d384",
   "metadata": {},
   "outputs": [],
   "source": [
    "# Numpy Copies & views"
   ]
  },
  {
   "cell_type": "code",
   "execution_count": 14,
   "id": "dea1923c",
   "metadata": {},
   "outputs": [
    {
     "data": {
      "text/plain": [
       "array([ 4,  3,  6, 72,  3,  5,  1,  2,  3,  5])"
      ]
     },
     "execution_count": 14,
     "metadata": {},
     "output_type": "execute_result"
    }
   ],
   "source": [
    "arr"
   ]
  },
  {
   "cell_type": "code",
   "execution_count": 15,
   "id": "d3016345",
   "metadata": {},
   "outputs": [],
   "source": [
    "a = np.copy(arr)"
   ]
  },
  {
   "cell_type": "code",
   "execution_count": 16,
   "id": "99a8fe28",
   "metadata": {},
   "outputs": [
    {
     "data": {
      "text/plain": [
       "array([ 4,  3,  6, 72,  3,  5,  1,  2,  3,  5])"
      ]
     },
     "execution_count": 16,
     "metadata": {},
     "output_type": "execute_result"
    }
   ],
   "source": [
    "a"
   ]
  },
  {
   "cell_type": "code",
   "execution_count": 17,
   "id": "484a2f74",
   "metadata": {},
   "outputs": [],
   "source": [
    "b = arr.view()"
   ]
  },
  {
   "cell_type": "code",
   "execution_count": 18,
   "id": "13bbb2ba",
   "metadata": {},
   "outputs": [
    {
     "data": {
      "text/plain": [
       "array([ 4,  3,  6, 72,  3,  5,  1,  2,  3,  5])"
      ]
     },
     "execution_count": 18,
     "metadata": {},
     "output_type": "execute_result"
    }
   ],
   "source": [
    "b"
   ]
  },
  {
   "cell_type": "code",
   "execution_count": 19,
   "id": "02dc42c3",
   "metadata": {},
   "outputs": [],
   "source": [
    "# Numpy - Matrix Library"
   ]
  },
  {
   "cell_type": "code",
   "execution_count": 20,
   "id": "04cb91b3",
   "metadata": {},
   "outputs": [],
   "source": [
    "import numpy.matlib as nm"
   ]
  },
  {
   "cell_type": "code",
   "execution_count": 21,
   "id": "c2511523",
   "metadata": {},
   "outputs": [
    {
     "data": {
      "text/plain": [
       "matrix([[0., 0., 0., 0., 0.]])"
      ]
     },
     "execution_count": 21,
     "metadata": {},
     "output_type": "execute_result"
    }
   ],
   "source": [
    "nm.zeros(5)"
   ]
  },
  {
   "cell_type": "code",
   "execution_count": 22,
   "id": "97e80835",
   "metadata": {},
   "outputs": [
    {
     "data": {
      "text/plain": [
       "matrix([[1., 1., 1., 1.],\n",
       "        [1., 1., 1., 1.],\n",
       "        [1., 1., 1., 1.]])"
      ]
     },
     "execution_count": 22,
     "metadata": {},
     "output_type": "execute_result"
    }
   ],
   "source": [
    "nm.ones((3,4))"
   ]
  },
  {
   "cell_type": "code",
   "execution_count": 23,
   "id": "33d9018d",
   "metadata": {},
   "outputs": [
    {
     "data": {
      "text/plain": [
       "matrix([[1., 0., 0., 0., 0.],\n",
       "        [0., 1., 0., 0., 0.],\n",
       "        [0., 0., 1., 0., 0.],\n",
       "        [0., 0., 0., 1., 0.],\n",
       "        [0., 0., 0., 0., 1.]])"
      ]
     },
     "execution_count": 23,
     "metadata": {},
     "output_type": "execute_result"
    }
   ],
   "source": [
    "nm.eye(5)"
   ]
  },
  {
   "cell_type": "code",
   "execution_count": 24,
   "id": "6c73e9e8",
   "metadata": {},
   "outputs": [],
   "source": [
    "# Numpy Linear Algebra"
   ]
  },
  {
   "cell_type": "code",
   "execution_count": 25,
   "id": "802fa177",
   "metadata": {},
   "outputs": [],
   "source": [
    "arr1 = np.random.randint([[2,3],[4,5]])"
   ]
  },
  {
   "cell_type": "code",
   "execution_count": 26,
   "id": "db45e58f",
   "metadata": {},
   "outputs": [],
   "source": [
    "arr2 = np.random.randint([[5,3],[2,5]])"
   ]
  },
  {
   "cell_type": "code",
   "execution_count": 27,
   "id": "a68267d3",
   "metadata": {},
   "outputs": [
    {
     "data": {
      "text/plain": [
       "array([[ 4,  5],\n",
       "       [12,  3]])"
      ]
     },
     "execution_count": 27,
     "metadata": {},
     "output_type": "execute_result"
    }
   ],
   "source": [
    "np.dot(arr1,arr2)"
   ]
  },
  {
   "cell_type": "code",
   "execution_count": null,
   "id": "0339d928",
   "metadata": {},
   "outputs": [],
   "source": []
  }
 ],
 "metadata": {
  "kernelspec": {
   "display_name": "Python 3 (ipykernel)",
   "language": "python",
   "name": "python3"
  },
  "language_info": {
   "codemirror_mode": {
    "name": "ipython",
    "version": 3
   },
   "file_extension": ".py",
   "mimetype": "text/x-python",
   "name": "python",
   "nbconvert_exporter": "python",
   "pygments_lexer": "ipython3",
   "version": "3.10.12"
  }
 },
 "nbformat": 4,
 "nbformat_minor": 5
}
